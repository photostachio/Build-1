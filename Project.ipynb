{
  "nbformat": 4,
  "nbformat_minor": 0,
  "metadata": {
    "colab": {
      "name": "Project.ipynb",
      "provenance": [],
      "include_colab_link": true
    },
    "kernelspec": {
      "name": "python3",
      "display_name": "Python 3"
    }
  },
  "cells": [
    {
      "cell_type": "markdown",
      "metadata": {
        "id": "view-in-github",
        "colab_type": "text"
      },
      "source": [
        "<a href=\"https://colab.research.google.com/github/photostachio/Build-1/blob/master/Project.ipynb\" target=\"_parent\"><img src=\"https://colab.research.google.com/assets/colab-badge.svg\" alt=\"Open In Colab\"/></a>"
      ]
    },
    {
      "cell_type": "code",
      "metadata": {
        "id": "mYghKH_M6I7Y",
        "colab_type": "code",
        "colab": {}
      },
      "source": [
        "import pandas as pd\n",
        "import numpy as np\n",
        "import os\n",
        "import matplotlib.pyplot as plt\n",
        "import seaborn as sns"
      ],
      "execution_count": 0,
      "outputs": []
    },
    {
      "cell_type": "code",
      "metadata": {
        "id": "g-xd1CbO_JEd",
        "colab_type": "code",
        "outputId": "31569979-b11d-4bd5-ce9c-4da3ba619968",
        "colab": {
          "base_uri": "https://localhost:8080/",
          "height": 204
        }
      },
      "source": [
        "face = 'https://raw.githubusercontent.com/photostachio/Build-1/master/facebook-fact-check.csv'\n",
        "df = pd.read_csv(face)\n",
        "df.head()\n"
      ],
      "execution_count": 2,
      "outputs": [
        {
          "output_type": "execute_result",
          "data": {
            "text/html": [
              "<div>\n",
              "<style scoped>\n",
              "    .dataframe tbody tr th:only-of-type {\n",
              "        vertical-align: middle;\n",
              "    }\n",
              "\n",
              "    .dataframe tbody tr th {\n",
              "        vertical-align: top;\n",
              "    }\n",
              "\n",
              "    .dataframe thead th {\n",
              "        text-align: right;\n",
              "    }\n",
              "</style>\n",
              "<table border=\"1\" class=\"dataframe\">\n",
              "  <thead>\n",
              "    <tr style=\"text-align: right;\">\n",
              "      <th></th>\n",
              "      <th>account_id</th>\n",
              "      <th>post_id</th>\n",
              "      <th>Category</th>\n",
              "      <th>Page</th>\n",
              "      <th>Post URL</th>\n",
              "      <th>Date Published</th>\n",
              "      <th>Post Type</th>\n",
              "      <th>Rating</th>\n",
              "      <th>Debate</th>\n",
              "      <th>share_count</th>\n",
              "      <th>reaction_count</th>\n",
              "      <th>comment_count</th>\n",
              "    </tr>\n",
              "  </thead>\n",
              "  <tbody>\n",
              "    <tr>\n",
              "      <th>0</th>\n",
              "      <td>184096565021911</td>\n",
              "      <td>1035057923259100</td>\n",
              "      <td>mainstream</td>\n",
              "      <td>ABC News Politics</td>\n",
              "      <td>https://www.facebook.com/ABCNewsPolitics/posts...</td>\n",
              "      <td>2016-09-19</td>\n",
              "      <td>video</td>\n",
              "      <td>no factual content</td>\n",
              "      <td>NaN</td>\n",
              "      <td>NaN</td>\n",
              "      <td>146.0</td>\n",
              "      <td>15.0</td>\n",
              "    </tr>\n",
              "    <tr>\n",
              "      <th>1</th>\n",
              "      <td>184096565021911</td>\n",
              "      <td>1035269309904628</td>\n",
              "      <td>mainstream</td>\n",
              "      <td>ABC News Politics</td>\n",
              "      <td>https://www.facebook.com/ABCNewsPolitics/posts...</td>\n",
              "      <td>2016-09-19</td>\n",
              "      <td>link</td>\n",
              "      <td>mostly true</td>\n",
              "      <td>NaN</td>\n",
              "      <td>1.0</td>\n",
              "      <td>33.0</td>\n",
              "      <td>34.0</td>\n",
              "    </tr>\n",
              "    <tr>\n",
              "      <th>2</th>\n",
              "      <td>184096565021911</td>\n",
              "      <td>1035305953234297</td>\n",
              "      <td>mainstream</td>\n",
              "      <td>ABC News Politics</td>\n",
              "      <td>https://www.facebook.com/ABCNewsPolitics/posts...</td>\n",
              "      <td>2016-09-19</td>\n",
              "      <td>link</td>\n",
              "      <td>mostly true</td>\n",
              "      <td>NaN</td>\n",
              "      <td>34.0</td>\n",
              "      <td>63.0</td>\n",
              "      <td>27.0</td>\n",
              "    </tr>\n",
              "    <tr>\n",
              "      <th>3</th>\n",
              "      <td>184096565021911</td>\n",
              "      <td>1035322636565962</td>\n",
              "      <td>mainstream</td>\n",
              "      <td>ABC News Politics</td>\n",
              "      <td>https://www.facebook.com/ABCNewsPolitics/posts...</td>\n",
              "      <td>2016-09-19</td>\n",
              "      <td>link</td>\n",
              "      <td>mostly true</td>\n",
              "      <td>NaN</td>\n",
              "      <td>35.0</td>\n",
              "      <td>170.0</td>\n",
              "      <td>86.0</td>\n",
              "    </tr>\n",
              "    <tr>\n",
              "      <th>4</th>\n",
              "      <td>184096565021911</td>\n",
              "      <td>1035352946562931</td>\n",
              "      <td>mainstream</td>\n",
              "      <td>ABC News Politics</td>\n",
              "      <td>https://www.facebook.com/ABCNewsPolitics/posts...</td>\n",
              "      <td>2016-09-19</td>\n",
              "      <td>video</td>\n",
              "      <td>mostly true</td>\n",
              "      <td>NaN</td>\n",
              "      <td>568.0</td>\n",
              "      <td>3188.0</td>\n",
              "      <td>2815.0</td>\n",
              "    </tr>\n",
              "  </tbody>\n",
              "</table>\n",
              "</div>"
            ],
            "text/plain": [
              "        account_id           post_id  ... reaction_count comment_count\n",
              "0  184096565021911  1035057923259100  ...          146.0          15.0\n",
              "1  184096565021911  1035269309904628  ...           33.0          34.0\n",
              "2  184096565021911  1035305953234297  ...           63.0          27.0\n",
              "3  184096565021911  1035322636565962  ...          170.0          86.0\n",
              "4  184096565021911  1035352946562931  ...         3188.0        2815.0\n",
              "\n",
              "[5 rows x 12 columns]"
            ]
          },
          "metadata": {
            "tags": []
          },
          "execution_count": 2
        }
      ]
    },
    {
      "cell_type": "code",
      "metadata": {
        "id": "Oisf2AzY_Ynv",
        "colab_type": "code",
        "outputId": "554e212c-3d95-4ea2-d807-0007b7bdc6eb",
        "colab": {
          "base_uri": "https://localhost:8080/",
          "height": 34
        }
      },
      "source": [
        "df.shape\n"
      ],
      "execution_count": 3,
      "outputs": [
        {
          "output_type": "execute_result",
          "data": {
            "text/plain": [
              "(2282, 12)"
            ]
          },
          "metadata": {
            "tags": []
          },
          "execution_count": 3
        }
      ]
    },
    {
      "cell_type": "code",
      "metadata": {
        "id": "PKYjz1vct6J-",
        "colab_type": "code",
        "colab": {}
      },
      "source": [
        "df.drop([\"account_id\", \"post_id\",\"Debate\", \"Post URL\",\"Post Type\", \"Date Published\"],\n",
        "        axis = 1, inplace = True)"
      ],
      "execution_count": 0,
      "outputs": []
    },
    {
      "cell_type": "code",
      "metadata": {
        "id": "6RKu3APTsTh1",
        "colab_type": "code",
        "outputId": "7e926482-3ae0-4c02-dec0-826eff109596",
        "colab": {
          "base_uri": "https://localhost:8080/",
          "height": 136
        }
      },
      "source": [
        "df.isnull().sum()"
      ],
      "execution_count": 5,
      "outputs": [
        {
          "output_type": "execute_result",
          "data": {
            "text/plain": [
              "Category           0\n",
              "Page               0\n",
              "Rating             0\n",
              "share_count       70\n",
              "reaction_count     2\n",
              "comment_count      2\n",
              "dtype: int64"
            ]
          },
          "metadata": {
            "tags": []
          },
          "execution_count": 5
        }
      ]
    },
    {
      "cell_type": "code",
      "metadata": {
        "id": "4lhk9jSIsmlf",
        "colab_type": "code",
        "outputId": "72160286-64bd-4b2e-9961-cb1d84cbf45b",
        "colab": {
          "base_uri": "https://localhost:8080/",
          "height": 136
        }
      },
      "source": [
        "df = df.replace(np.nan, 0)\n",
        "df.isnull().sum()"
      ],
      "execution_count": 6,
      "outputs": [
        {
          "output_type": "execute_result",
          "data": {
            "text/plain": [
              "Category          0\n",
              "Page              0\n",
              "Rating            0\n",
              "share_count       0\n",
              "reaction_count    0\n",
              "comment_count     0\n",
              "dtype: int64"
            ]
          },
          "metadata": {
            "tags": []
          },
          "execution_count": 6
        }
      ]
    },
    {
      "cell_type": "code",
      "metadata": {
        "id": "tZZx3VfLNkgE",
        "colab_type": "code",
        "outputId": "4568b5b0-3d9c-4896-a5e7-e506c19b23e3",
        "colab": {
          "base_uri": "https://localhost:8080/",
          "height": 85
        }
      },
      "source": [
        "Category_Counts = df['Category'].value_counts()\n",
        "Category_Counts"
      ],
      "execution_count": 7,
      "outputs": [
        {
          "output_type": "execute_result",
          "data": {
            "text/plain": [
              "mainstream    1145\n",
              "right          666\n",
              "left           471\n",
              "Name: Category, dtype: int64"
            ]
          },
          "metadata": {
            "tags": []
          },
          "execution_count": 7
        }
      ]
    },
    {
      "cell_type": "code",
      "metadata": {
        "id": "xyVXdrS2fNcZ",
        "colab_type": "code",
        "outputId": "b16df5da-9e2e-4b72-cce5-1c586f1f4611",
        "colab": {
          "base_uri": "https://localhost:8080/",
          "height": 353
        }
      },
      "source": [
        "Total_count  = Category_Counts\n",
        "plt.figure(figsize=(10,5), clear=True,)\n",
        "sns.barplot(Total_count.index, Total_count.values, palette='coolwarm', saturation=1)\n",
        "plt.title('Total Amount of Articles Posted on Facebook')\n",
        "plt.ylabel('Amount of Posts', fontsize=12)\n",
        "plt.xlabel('Type of Media', fontsize=12)\n",
        "plt.show()"
      ],
      "execution_count": 8,
      "outputs": [
        {
          "output_type": "display_data",
          "data": {
            "image/png": "[encoded data removed]",
            "text/plain": [
              "<Figure size 720x360 with 1 Axes>"
            ]
          },
          "metadata": {
            "tags": []
          }
        }
      ]
    },
    {
      "cell_type": "code",
      "metadata": {
        "id": "gBee-VjNcARM",
        "colab_type": "code",
        "outputId": "5b474b2d-6dc0-4363-8d55-1d95ffdd4e7c",
        "colab": {
          "base_uri": "https://localhost:8080/",
          "height": 187
        }
      },
      "source": [
        "Page_Counts = df['Page'].str.split('|', expand=True).stack().value_counts()\n",
        "Page_Counts"
      ],
      "execution_count": 9,
      "outputs": [
        {
          "output_type": "execute_result",
          "data": {
            "text/plain": [
              "Politico             536\n",
              "CNN Politics         409\n",
              "Eagle Rising         286\n",
              "Right Wing News      268\n",
              "Occupy Democrats     209\n",
              "ABC News Politics    200\n",
              "Addicting Info       140\n",
              "The Other 98%        122\n",
              "Freedom Daily        112\n",
              "dtype: int64"
            ]
          },
          "metadata": {
            "tags": []
          },
          "execution_count": 9
        }
      ]
    },
    {
      "cell_type": "code",
      "metadata": {
        "id": "JS9miz-O7Grm",
        "colab_type": "code",
        "outputId": "72961772-c445-4c1c-e91f-15e9974522e3",
        "colab": {
          "base_uri": "https://localhost:8080/",
          "height": 353
        }
      },
      "source": [
        "Total_Page_Counts  = Page_Counts\n",
        "plt.figure(figsize=(10,5), clear=True,)\n",
        "sns.barplot(y=Total_Page_Counts.index, x=Total_Page_Counts.values, palette='coolwarm',\n",
        "            saturation=1)\n",
        "plt.title('Total Articles by Page')\n",
        "plt.xlabel('Amount of Articles by Page', fontsize=12)\n",
        "plt.show()"
      ],
      "execution_count": 10,
      "outputs": [
        {
          "output_type": "display_data",
          "data": {
            "image/png": "[encoded data removed]",
            "text/plain": [
              "<Figure size 720x360 with 1 Axes>"
            ]
          },
          "metadata": {
            "tags": []
          }
        }
      ]
    },
    {
      "cell_type": "code",
      "metadata": {
        "id": "1hLTFS0YcnWf",
        "colab_type": "code",
        "outputId": "96c2489e-4431-4f86-9bb8-0a021f5f026a",
        "colab": {
          "base_uri": "https://localhost:8080/",
          "height": 102
        }
      },
      "source": [
        "Rating_Counts = df['Rating'].str.split('|', expand=True).stack().value_counts()\n",
        "print (Rating_Counts)"
      ],
      "execution_count": 11,
      "outputs": [
        {
          "output_type": "stream",
          "text": [
            "mostly true                  1669\n",
            "no factual content            264\n",
            "mixture of true and false     245\n",
            "mostly false                  104\n",
            "dtype: int64\n"
          ],
          "name": "stdout"
        }
      ]
    },
    {
      "cell_type": "code",
      "metadata": {
        "id": "pQciUCTgNmnd",
        "colab_type": "code",
        "outputId": "6a3c426c-a7cf-4785-cf77-e1168283d508",
        "colab": {
          "base_uri": "https://localhost:8080/",
          "height": 364
        }
      },
      "source": [
        "ALL_NEWS = pd.crosstab(df['Page'], df['Rating'])\n",
        "ALL_NEWS.plot(kind='bar');"
      ],
      "execution_count": 12,
      "outputs": [
        {
          "output_type": "display_data",
          "data": {
            "image/png": "[encoded data removed]",
            "text/plain": [
              "<Figure size 432x288 with 1 Axes>"
            ]
          },
          "metadata": {
            "tags": []
          }
        }
      ]
    },
    {
      "cell_type": "code",
      "metadata": {
        "id": "OndiDsy6Nhu9",
        "colab_type": "code",
        "colab": {}
      },
      "source": [
        "CNN = df.loc[(df['Page'] == 'CNN Politics')]\n",
        "CNN_Fake = df.loc[(df.Page == 'CNN Politics') & \n",
        "                  (df.Rating == 'no factual content')]"
      ],
      "execution_count": 0,
      "outputs": []
    },
    {
      "cell_type": "code",
      "metadata": {
        "id": "4wkJhE1jYFPS",
        "colab_type": "code",
        "outputId": "1c94f883-e377-4a1a-cfa5-ffdae2c43ab2",
        "colab": {
          "base_uri": "https://localhost:8080/",
          "height": 421
        }
      },
      "source": [
        "CNN_Posts = CNN['Rating'].value_counts()\n",
        "plt.figure(figsize=(10,5), clear=True,)\n",
        "sns.barplot(CNN_Posts.index, CNN_Posts.values, palette='coolwarm', saturation=1)\n",
        "plt.title('CNN Posts')\n",
        "plt.ylabel('Amount of Posts', fontsize=12)\n",
        "plt.xlabel('Rating', fontsize=12)\n",
        "plt.show()\n",
        "CNN_Posts"
      ],
      "execution_count": 47,
      "outputs": [
        {
          "output_type": "display_data",
          "data": {
            "image/png": "[encoded data removed]",
            "text/plain": [
              "<Figure size 720x360 with 1 Axes>"
            ]
          },
          "metadata": {
            "tags": []
          }
        },
        {
          "output_type": "execute_result",
          "data": {
            "text/plain": [
              "mostly true                  385\n",
              "no factual content            20\n",
              "mixture of true and false      4\n",
              "Name: Rating, dtype: int64"
            ]
          },
          "metadata": {
            "tags": []
          },
          "execution_count": 47
        }
      ]
    },
    {
      "cell_type": "code",
      "metadata": {
        "id": "7vw1NVx2Uwph",
        "colab_type": "code",
        "colab": {}
      },
      "source": [
        "Politico = df.loc[(df['Page'] == 'Politico')]\n",
        "Politico_Fake = df.loc[(df['Page'] == 'Politico') & \n",
        "                       (df.Rating == 'no factual content')]"
      ],
      "execution_count": 0,
      "outputs": []
    },
    {
      "cell_type": "code",
      "metadata": {
        "id": "kTZM113KZGkG",
        "colab_type": "code",
        "outputId": "ce345a45-3076-4d5f-cb12-eb9669fff5b7",
        "colab": {
          "base_uri": "https://localhost:8080/",
          "height": 421
        }
      },
      "source": [
        "Politico_Posts = Politico['Rating'].value_counts()\n",
        "plt.figure(figsize=(10,5), clear=True,)\n",
        "sns.barplot(Politico_Posts.index, Politico_Posts.values, palette='coolwarm', saturation=1)\n",
        "plt.title('Politico Posts')\n",
        "plt.ylabel('Amount of Posts', fontsize=12)\n",
        "plt.xlabel('Rating', fontsize=12)\n",
        "plt.show()\n",
        "Politico_Posts"
      ],
      "execution_count": 48,
      "outputs": [
        {
          "output_type": "display_data",
          "data": {
            "image/png": "[encoded data removed]",
            "text/plain": [
              "<Figure size 720x360 with 1 Axes>"
            ]
          },
          "metadata": {
            "tags": []
          }
        },
        {
          "output_type": "execute_result",
          "data": {
            "text/plain": [
              "mostly true                  528\n",
              "no factual content             6\n",
              "mixture of true and false      2\n",
              "Name: Rating, dtype: int64"
            ]
          },
          "metadata": {
            "tags": []
          },
          "execution_count": 48
        }
      ]
    },
    {
      "cell_type": "code",
      "metadata": {
        "id": "ubWeHoRsOeLI",
        "colab_type": "code",
        "colab": {}
      },
      "source": [
        "Eagle_Rising = df.loc[(df['Page'] == 'Eagle Rising')]\n",
        "Eagle_Fake = df.loc[(df['Page'] == 'Eagle Rising') & \n",
        "                    (df.Rating == 'no factual content')]"
      ],
      "execution_count": 0,
      "outputs": []
    },
    {
      "cell_type": "code",
      "metadata": {
        "id": "qe7cvj6JZZi8",
        "colab_type": "code",
        "outputId": "2e2a7073-da9e-48f1-e0bb-f0e1959fd642",
        "colab": {
          "base_uri": "https://localhost:8080/",
          "height": 438
        }
      },
      "source": [
        "Eagle_Posts = Eagle_Rising['Rating'].value_counts()\n",
        "plt.figure(figsize=(10,5), clear=True,)\n",
        "sns.barplot(Eagle_Posts.index, Eagle_Posts.values, palette='coolwarm', saturation=1)\n",
        "plt.title('Eagle Posts')\n",
        "plt.ylabel('Amount of Posts', fontsize=12)\n",
        "plt.xlabel('Rating', fontsize=12)\n",
        "plt.show()\n",
        "Eagle_Posts"
      ],
      "execution_count": 49,
      "outputs": [
        {
          "output_type": "display_data",
          "data": {
            "image/png": "[encoded data removed]",
            "text/plain": [
              "<Figure size 720x360 with 1 Axes>"
            ]
          },
          "metadata": {
            "tags": []
          }
        },
        {
          "output_type": "execute_result",
          "data": {
            "text/plain": [
              "mostly true                  121\n",
              "no factual content            81\n",
              "mixture of true and false     54\n",
              "mostly false                  30\n",
              "Name: Rating, dtype: int64"
            ]
          },
          "metadata": {
            "tags": []
          },
          "execution_count": 49
        }
      ]
    },
    {
      "cell_type": "code",
      "metadata": {
        "id": "xnfh5Zw6Om-_",
        "colab_type": "code",
        "colab": {}
      },
      "source": [
        "Right_Wing_News = df.loc[(df['Page'] == 'Right Wing News')]\n",
        "Right_Wing_Fake = df.loc[(df['Page'] == 'Right Wing News') & \n",
        "                                           (df.Rating == 'no factual content')]"
      ],
      "execution_count": 0,
      "outputs": []
    },
    {
      "cell_type": "code",
      "metadata": {
        "id": "hikzYjJpZvDx",
        "colab_type": "code",
        "outputId": "4904c756-a547-4ec9-ea8c-ebb1e31891bb",
        "colab": {
          "base_uri": "https://localhost:8080/",
          "height": 438
        }
      },
      "source": [
        "Right_Posts = Right_Wing_News['Rating'].value_counts()\n",
        "plt.figure(figsize=(10,5), clear=True,)\n",
        "sns.barplot(Right_Posts.index, Right_Posts.values, palette='coolwarm', saturation=1)\n",
        "plt.title('Right Posts')\n",
        "plt.ylabel('Amount of Posts', fontsize=12)\n",
        "plt.xlabel('Rating', fontsize=12)\n",
        "plt.show()\n",
        "Right_Posts"
      ],
      "execution_count": 50,
      "outputs": [
        {
          "output_type": "display_data",
          "data": {
            "image/png": "[encoded data removed]",
            "text/plain": [
              "<Figure size 720x360 with 1 Axes>"
            ]
          },
          "metadata": {
            "tags": []
          }
        },
        {
          "output_type": "execute_result",
          "data": {
            "text/plain": [
              "mostly true                  142\n",
              "mixture of true and false     89\n",
              "mostly false                  26\n",
              "no factual content            11\n",
              "Name: Rating, dtype: int64"
            ]
          },
          "metadata": {
            "tags": []
          },
          "execution_count": 50
        }
      ]
    },
    {
      "cell_type": "code",
      "metadata": {
        "id": "gHNk2kncQoxN",
        "colab_type": "code",
        "colab": {}
      },
      "source": [
        "Occupy_Democrats = df.loc[(df['Page'] == 'Occupy Democrats')]\n",
        "Occupy_Fake = df.loc[(df['Page'] == 'Occupy Democrats') & \n",
        "                     (df.Rating == 'no factual content')]"
      ],
      "execution_count": 0,
      "outputs": []
    },
    {
      "cell_type": "code",
      "metadata": {
        "id": "297UIsZ7Z3uj",
        "colab_type": "code",
        "outputId": "1fb9a2cb-f1af-4bc9-8ff0-90b046248782",
        "colab": {
          "base_uri": "https://localhost:8080/",
          "height": 438
        }
      },
      "source": [
        "Occupy_Posts = Occupy_Democrats['Rating'].value_counts()\n",
        "plt.figure(figsize=(10,5), clear=True,)\n",
        "sns.barplot(Occupy_Posts.index, Occupy_Posts.values, palette='coolwarm', saturation=1)\n",
        "plt.title('Occupy Democrats Posts')\n",
        "plt.ylabel('Amount of Posts', fontsize=12)\n",
        "plt.xlabel('Rating', fontsize=12)\n",
        "plt.show()\n",
        "Occupy_Posts"
      ],
      "execution_count": 51,
      "outputs": [
        {
          "output_type": "display_data",
          "data": {
            "image/png": "[encoded data removed]",
            "text/plain": [
              "<Figure size 720x360 with 1 Axes>"
            ]
          },
          "metadata": {
            "tags": []
          }
        },
        {
          "output_type": "execute_result",
          "data": {
            "text/plain": [
              "mostly true                  102\n",
              "no factual content            65\n",
              "mixture of true and false     33\n",
              "mostly false                   9\n",
              "Name: Rating, dtype: int64"
            ]
          },
          "metadata": {
            "tags": []
          },
          "execution_count": 51
        }
      ]
    },
    {
      "cell_type": "code",
      "metadata": {
        "id": "DSq3BrHSQ6ti",
        "colab_type": "code",
        "colab": {}
      },
      "source": [
        "ABC_News_Politics = df.loc[(df['Page'] == 'ABC News Politics')]\n",
        "ABC_Fake = df.loc[(df['Page'] == 'ABC News Politics') & \n",
        "                  (df.Rating == 'no factual content')]\n"
      ],
      "execution_count": 0,
      "outputs": []
    },
    {
      "cell_type": "code",
      "metadata": {
        "id": "0MmGxLmuaOQQ",
        "colab_type": "code",
        "outputId": "0400e2fc-c570-4ad6-c1a5-0c84731e6ab0",
        "colab": {
          "base_uri": "https://localhost:8080/",
          "height": 421
        }
      },
      "source": [
        "ABC_Posts = ABC_News_Politics['Rating'].value_counts()\n",
        "plt.figure(figsize=(10,5), clear=True,)\n",
        "sns.barplot(ABC_Posts.index, ABC_Posts.values, palette='coolwarm', saturation=1)\n",
        "plt.title('ABC News Politics Posts')\n",
        "plt.ylabel('Amount of Posts', fontsize=12)\n",
        "plt.xlabel('Rating', fontsize=12)\n",
        "plt.show()\n",
        "ABC_Posts"
      ],
      "execution_count": 52,
      "outputs": [
        {
          "output_type": "display_data",
          "data": {
            "image/png": "[encoded data removed]",
            "text/plain": [
              "<Figure size 720x360 with 1 Axes>"
            ]
          },
          "metadata": {
            "tags": []
          }
        },
        {
          "output_type": "execute_result",
          "data": {
            "text/plain": [
              "mostly true                  172\n",
              "no factual content            26\n",
              "mixture of true and false      2\n",
              "Name: Rating, dtype: int64"
            ]
          },
          "metadata": {
            "tags": []
          },
          "execution_count": 52
        }
      ]
    },
    {
      "cell_type": "code",
      "metadata": {
        "id": "eJ8zwg3LTtXw",
        "colab_type": "code",
        "colab": {}
      },
      "source": [
        "Addicting_Info = df.loc[(df['Page'] == 'Addicting Info')]\n",
        "Addicting_Fake = df.loc[(df['Page'] == 'Addicting Info') & \n",
        "                        (df.Rating == 'no factual content')]"
      ],
      "execution_count": 0,
      "outputs": []
    },
    {
      "cell_type": "code",
      "metadata": {
        "id": "2lnY2oMRamGp",
        "colab_type": "code",
        "outputId": "f4ce6af0-20d7-4dff-f957-56be77709441",
        "colab": {
          "base_uri": "https://localhost:8080/",
          "height": 438
        }
      },
      "source": [
        "Addicting_Posts = Addicting_Info['Rating'].value_counts()\n",
        "plt.figure(figsize=(10,5), clear=True,)\n",
        "sns.barplot(Addicting_Posts.index, Addicting_Posts.values, palette='coolwarm', \n",
        "            saturation=1)\n",
        "plt.title('Addicting Info Posts')\n",
        "plt.ylabel('Amount of Posts', fontsize=12)\n",
        "plt.xlabel('Rating', fontsize=12)\n",
        "plt.show()\n",
        "Addicting_Posts"
      ],
      "execution_count": 53,
      "outputs": [
        {
          "output_type": "display_data",
          "data": {
            "image/png": "[encoded data removed]",
            "text/plain": [
              "<Figure size 720x360 with 1 Axes>"
            ]
          },
          "metadata": {
            "tags": []
          }
        },
        {
          "output_type": "execute_result",
          "data": {
            "text/plain": [
              "mostly true                  96\n",
              "mixture of true and false    25\n",
              "no factual content           11\n",
              "mostly false                  8\n",
              "Name: Rating, dtype: int64"
            ]
          },
          "metadata": {
            "tags": []
          },
          "execution_count": 53
        }
      ]
    },
    {
      "cell_type": "code",
      "metadata": {
        "id": "C5Dd_27RTtd-",
        "colab_type": "code",
        "colab": {}
      },
      "source": [
        "The_Other_98 = df.loc[(df['Page'] == 'The Other 98%')]\n",
        "The_Other_Fake = df.loc[(df['Page'] == 'The Other 98%') & \n",
        "                        (df.Rating == 'no factual content')]"
      ],
      "execution_count": 0,
      "outputs": []
    },
    {
      "cell_type": "code",
      "metadata": {
        "id": "PGEZyC38a1x3",
        "colab_type": "code",
        "outputId": "bdfc2890-5bea-49df-f2c8-05d79b554b02",
        "colab": {
          "base_uri": "https://localhost:8080/",
          "height": 438
        }
      },
      "source": [
        "The_Other_Posts = The_Other_98['Rating'].value_counts()\n",
        "plt.figure(figsize=(10,5), clear=True,)\n",
        "sns.barplot(The_Other_Posts.index, The_Other_Posts.values, palette='coolwarm', \n",
        "            saturation=1)\n",
        "plt.title('The Other 98% Posts')\n",
        "plt.ylabel('Amount of Posts', fontsize=12)\n",
        "plt.xlabel('Rating', fontsize=12)\n",
        "plt.show()\n",
        "The_Other_Posts"
      ],
      "execution_count": 54,
      "outputs": [
        {
          "output_type": "display_data",
          "data": {
            "image/png": "[encoded data removed]",
            "text/plain": [
              "<Figure size 720x360 with 1 Axes>"
            ]
          },
          "metadata": {
            "tags": []
          }
        },
        {
          "output_type": "execute_result",
          "data": {
            "text/plain": [
              "mostly true                  67\n",
              "no factual content           40\n",
              "mixture of true and false    10\n",
              "mostly false                  5\n",
              "Name: Rating, dtype: int64"
            ]
          },
          "metadata": {
            "tags": []
          },
          "execution_count": 54
        }
      ]
    },
    {
      "cell_type": "code",
      "metadata": {
        "id": "9dEguKT7-1m2",
        "colab_type": "code",
        "colab": {}
      },
      "source": [
        "Freedom_Daily = df.loc[(df['Page'] == 'Freedom Daily')]\n",
        "Freedom_Fake = df.loc[(df['Page'] == 'Freedom Daily') & \n",
        "                      (df.Rating == 'no factual content')]\n"
      ],
      "execution_count": 0,
      "outputs": []
    },
    {
      "cell_type": "code",
      "metadata": {
        "id": "DUaIAisQbGIe",
        "colab_type": "code",
        "outputId": "04c453bc-4907-4fb6-91b8-953bb804e246",
        "colab": {
          "base_uri": "https://localhost:8080/",
          "height": 438
        }
      },
      "source": [
        "Freedom_Posts = Freedom_Daily['Rating'].value_counts()\n",
        "plt.figure(figsize=(10,5), clear=True,)\n",
        "sns.barplot(Freedom_Posts.index, Freedom_Posts.values, palette='coolwarm', \n",
        "            saturation=1)\n",
        "plt.title('Freedom Daily Posts')\n",
        "plt.ylabel('Amount of Posts', fontsize=12)\n",
        "plt.xlabel('Rating', fontsize=12)\n",
        "plt.show()\n",
        "Freedom_Posts"
      ],
      "execution_count": 55,
      "outputs": [
        {
          "output_type": "display_data",
          "data": {
            "image/png": "[encoded data removed]",
            "text/plain": [
              "<Figure size 720x360 with 1 Axes>"
            ]
          },
          "metadata": {
            "tags": []
          }
        },
        {
          "output_type": "execute_result",
          "data": {
            "text/plain": [
              "mostly true                  56\n",
              "mixture of true and false    26\n",
              "mostly false                 26\n",
              "no factual content            4\n",
              "Name: Rating, dtype: int64"
            ]
          },
          "metadata": {
            "tags": []
          },
          "execution_count": 55
        }
      ]
    },
    {
      "cell_type": "code",
      "metadata": {
        "id": "Cv90OCoRj2we",
        "colab_type": "code",
        "outputId": "44fdf217-2ea3-4ea4-cc4a-a031270daa02",
        "colab": {
          "base_uri": "https://localhost:8080/",
          "height": 68
        }
      },
      "source": [
        "ABC_Reach = ABC_Fake['reaction_count'].sum().astype(int)\n",
        "print('The Total Reactions for \"No Factual Content\" ABC Articles:',ABC_Reach)\n",
        "\n",
        "ABC_Share = ABC_Fake['share_count'].sum().astype(int)\n",
        "print('The Total Shares for \"No Factual Content\" ABC Articles:',ABC_Share)\n",
        "\n",
        "ABC_Comment = ABC_Fake['comment_count'].sum().astype(int)\n",
        "print('The Total Comments for\"No Factual Content\" ABC Articles:',ABC_Comment)\n"
      ],
      "execution_count": 31,
      "outputs": [
        {
          "output_type": "stream",
          "text": [
            "The Total Reactions for \"No Factual Content\" ABC Articles: 4131\n",
            "The Total Shares for \"No Factual Content\" ABC Articles: 938\n",
            "The Total Comments for\"No Factual Content\" ABC Articles: 2677\n"
          ],
          "name": "stdout"
        }
      ]
    },
    {
      "cell_type": "code",
      "metadata": {
        "id": "2fuXfPnp-M1K",
        "colab_type": "code",
        "outputId": "c304a3a0-a949-43b9-b763-93dcf1118a26",
        "colab": {
          "base_uri": "https://localhost:8080/",
          "height": 68
        }
      },
      "source": [
        "CNN_Reach = CNN_Fake['reaction_count'].sum().astype(int)\n",
        "print('The Total Reactions for \"No Factual Content\" CNN Articles:',CNN_Reach)\n",
        "\n",
        "CNN_Share = CNN_Fake['share_count'].sum().astype(int)\n",
        "print('The Total Shares for \"No Factual Content\" CNN Articles:',CNN_Share)\n",
        "\n",
        "CNN_Comment = CNN_Fake['comment_count'].sum().astype(int)\n",
        "print('The Total Comments for\"No Factual Content\" CNN Articles:',CNN_Comment)"
      ],
      "execution_count": 32,
      "outputs": [
        {
          "output_type": "stream",
          "text": [
            "The Total Reactions for \"No Factual Content\" CNN Articles: 13125\n",
            "The Total Shares for \"No Factual Content\" CNN Articles: 4301\n",
            "The Total Comments for\"No Factual Content\" CNN Articles: 6926\n"
          ],
          "name": "stdout"
        }
      ]
    },
    {
      "cell_type": "code",
      "metadata": {
        "id": "qOUFq_IzlEvY",
        "colab_type": "code",
        "outputId": "9728b391-3a30-49a1-b4a2-81f052737e4f",
        "colab": {
          "base_uri": "https://localhost:8080/",
          "height": 68
        }
      },
      "source": [
        "Politico_Reach = Politico_Fake['reaction_count'].sum().astype(int)\n",
        "print('The Total Reactions for \"No Factual Content\" Politico Articles:',\n",
        "      Politico_Reach)\n",
        "\n",
        "Politico_Share = Politico_Fake['share_count'].sum().astype(int)\n",
        "print('The Total Shares for \"No Factual Content\"  Articles:',Politico_Share)\n",
        "\n",
        "Politico_Comment = Politico_Fake['comment_count'].sum().astype(int)\n",
        "print('The Total Comments for\"No Factual Content\" CNN Articles:',Politico_Comment)"
      ],
      "execution_count": 33,
      "outputs": [
        {
          "output_type": "stream",
          "text": [
            "The Total Reactions for \"No Factual Content\" Politico Articles: 2519\n",
            "The Total Shares for \"No Factual Content\"  Articles: 498\n",
            "The Total Comments for\"No Factual Content\" CNN Articles: 324\n"
          ],
          "name": "stdout"
        }
      ]
    },
    {
      "cell_type": "code",
      "metadata": {
        "id": "c9ZFrcOE8sny",
        "colab_type": "code",
        "colab": {
          "base_uri": "https://localhost:8080/",
          "height": 68
        },
        "outputId": "5b87f0ee-f207-46d7-97eb-1888e4e425b6"
      },
      "source": [
        "Eagle_Rising_Reach = Eagle_Fake['reaction_count'].sum().astype(int)\n",
        "print('The Total Reactions for \"No Factual Content\" Eagle_Rising Ariticles:',Eagle_Rising_Reach)\n",
        "\n",
        "Eagle_Rising_Share = Eagle_Fake['share_count'].sum().astype(int)\n",
        "print('The Total Reactions for \"No Factual Content\" Eagle_Rising Ariticles:',Eagle_Rising_Share)\n",
        "\n",
        "Eagle_Rising_Comment = Eagle_Fake['comment_count'].sum().astype(int)\n",
        "print('The Total Comments for \"No Factual Content\" Eagle_Rising Ariticles:',Eagle_Rising_Comment)"
      ],
      "execution_count": 41,
      "outputs": [
        {
          "output_type": "stream",
          "text": [
            "The Total Reactions for \"No Factual Content\" Eagle_Rising Ariticles: 46432\n",
            "The Total Reactions for \"No Factual Content\" Eagle_Rising Ariticles: 37449\n",
            "The Total Comments for \"No Factual Content\" Eagle_Rising Ariticles: 3935\n"
          ],
          "name": "stdout"
        }
      ]
    },
    {
      "cell_type": "code",
      "metadata": {
        "id": "llwNpSrl8esn",
        "colab_type": "code",
        "colab": {
          "base_uri": "https://localhost:8080/",
          "height": 68
        },
        "outputId": "4ee2a19a-3931-4484-ff26-0565a78b38ee"
      },
      "source": [
        "Right_Wing_News_Reach = Right_Wing_Fake['reaction_count'].sum().astype(int)\n",
        "print('The Total Reactions for \"No Factual Content\" Right_Wing_News Ariticles:',Right_Wing_News_Reach)\n",
        "\n",
        "Right_Wing_News_Share = Right_Wing_Fake['share_count'].sum().astype(int)\n",
        "print('The Total Reactions for \"No Factual Content\" Right_Wing_News Ariticles:',Right_Wing_News_Share)\n",
        "\n",
        "Right_Wing_News_Comment = Right_Wing_Fake['comment_count'].sum().astype(int)\n",
        "print('The Total Comments for \"No Factual Content\" Right_Wing_News Ariticles:',Right_Wing_News_Comment)"
      ],
      "execution_count": 44,
      "outputs": [
        {
          "output_type": "stream",
          "text": [
            "The Total Reactions for \"No Factual Content\" Right_Wing_News Ariticles: 106758\n",
            "The Total Reactions for \"No Factual Content\" Right_Wing_News Ariticles: 84846\n",
            "The Total Comments for \"No Factual Content\" Right_Wing_News Ariticles: 3964\n"
          ],
          "name": "stdout"
        }
      ]
    },
    {
      "cell_type": "code",
      "metadata": {
        "id": "jJZGLaDl8KTk",
        "colab_type": "code",
        "colab": {
          "base_uri": "https://localhost:8080/",
          "height": 68
        },
        "outputId": "85c75291-9a61-4b96-ec85-64177a8a5793"
      },
      "source": [
        "Occupy_Democrats_Reach = Occupy_Democrats['reaction_count'].sum().astype(int)\n",
        "print('The Total Reactions for \"No Factual Content\" Occupy_Democrats Articles:',Occupy_Democrats_Reach)\n",
        "\n",
        "Occupy_Democrats_Share = Occupy_Democrats['share_count'].sum().astype(int)\n",
        "print('The Total Reactions for \"No Factual Content\" Occupy_Democrats Articles:',Occupy_Democrats_Share)\n",
        "\n",
        "Occupy_Democrats_Comment = Occupy_Democrats['comment_count'].sum().astype(int)\n",
        "print('The Total Comments for \"No Factual Content\" Occupy_Democrats Articles:',Occupy_Democrats_Comment)"
      ],
      "execution_count": 45,
      "outputs": [
        {
          "output_type": "stream",
          "text": [
            "The Total Reactions for \"No Factual Content\" Occupy_Democrats Articles: 7245766\n",
            "The Total Reactions for \"No Factual Content\" Occupy_Democrats Articles: 5870149\n",
            "The Total Comments for \"No Factual Content\" Occupy_Democrats Articles: 597343\n"
          ],
          "name": "stdout"
        }
      ]
    },
    {
      "cell_type": "code",
      "metadata": {
        "id": "2sRPzyYk76fm",
        "colab_type": "code",
        "colab": {
          "base_uri": "https://localhost:8080/",
          "height": 431
        },
        "outputId": "3333c568-85a6-4e37-bb27-9d573d75891c"
      },
      "source": [
        "ABC_News_Politics_Articles = ABC_News_Politics['Rating'].value_counts().astype(int)\n",
        "ABC_News_Politics_Articles.plot(kind='bar');\n",
        "ABC_News_Politics_Reach = ABC_News_Politics['reaction_count'].sum().astype(int)\n",
        "print('The Total Reactions for All ABC_News_Politics Ariticles:',ABC_News_Politics_Reach)\n",
        "ABC_News_Politics_Share = ABC_News_Politics['share_count'].sum().astype(int)\n",
        "print('The Total Reactions for All ABC_News_Politics Ariticles:',ABC_News_Politics_Share)\n",
        "ABC_News_Politics_Comment = ABC_News_Politics['comment_count'].sum().astype(int)\n",
        "print('The Total Comments for All ABC_News_Politics Ariticles:',ABC_News_Politics_Comment)"
      ],
      "execution_count": 37,
      "outputs": [
        {
          "output_type": "stream",
          "text": [
            "The Total Reactions for All ABC_News_Politics Ariticles: 35334\n",
            "The Total Reactions for All ABC_News_Politics Ariticles: 7828\n",
            "The Total Comments for All ABC_News_Politics Ariticles: 14287\n"
          ],
          "name": "stdout"
        },
        {
          "output_type": "display_data",
          "data": {
            "image/png": "[encoded data removed]",
            "text/plain": [
              "<Figure size 432x288 with 1 Axes>"
            ]
          },
          "metadata": {
            "tags": []
          }
        }
      ]
    },
    {
      "cell_type": "code",
      "metadata": {
        "id": "O_COSxHT7t2b",
        "colab_type": "code",
        "colab": {
          "base_uri": "https://localhost:8080/",
          "height": 433
        },
        "outputId": "d630397a-bbd7-43b5-fbed-c30888122827"
      },
      "source": [
        "Addicting_Info_Articles = Addicting_Info['Rating'].value_counts().astype(int)\n",
        "Addicting_Info_Articles.plot(kind='bar');\n",
        "Addicting_Info_Reach = Addicting_Info['reaction_count'].sum().astype(int)\n",
        "print('The Total Reactions for All Addicting_Info Ariticles:',Addicting_Info_Reach)\n",
        "Addicting_Info_Share = Addicting_Info['share_count'].sum().astype(int)\n",
        "print('The Total Reactions for All Addicting_Info Ariticles:',Addicting_Info_Share)\n",
        "Addicting_Info_Comment = Addicting_Info['comment_count'].sum().astype(int)\n",
        "print('The Total Comments for All Addicting_Info Ariticles:',Addicting_Info_Comment)"
      ],
      "execution_count": 38,
      "outputs": [
        {
          "output_type": "stream",
          "text": [
            "The Total Reactions for All Addicting_Info Ariticles: 436843\n",
            "The Total Reactions for All Addicting_Info Ariticles: 170228\n",
            "The Total Comments for All Addicting_Info Ariticles: 54917\n"
          ],
          "name": "stdout"
        },
        {
          "output_type": "display_data",
          "data": {
            "image/png": "[encoded data removed]",
            "text/plain": [
              "<Figure size 432x288 with 1 Axes>"
            ]
          },
          "metadata": {
            "tags": []
          }
        }
      ]
    },
    {
      "cell_type": "code",
      "metadata": {
        "id": "c7b70A4o6aGi",
        "colab_type": "code",
        "colab": {
          "base_uri": "https://localhost:8080/",
          "height": 434
        },
        "outputId": "8a044385-386d-4eab-8bce-2bb04352582c"
      },
      "source": [
        "The_Other_98_Articles = The_Other_98['Rating'].value_counts().astype(int)\n",
        "The_Other_98_Articles.plot(kind='bar');\n",
        "The_Other_98_Reach = The_Other_98['reaction_count'].sum().astype(int)\n",
        "print('The Total Reactions for All The_Other_98 Ariticles:',The_Other_98_Reach)\n",
        "The_Other_98_Share = The_Other_98['share_count'].sum().astype(int)\n",
        "print('The Total Reactions for All The_Other_98 Ariticles:',The_Other_98_Share)\n",
        "The_Other_98_Comment = The_Other_98['comment_count'].sum().astype(int)\n",
        "print('The Total Comments for All The_Other_98 Ariticles:',The_Other_98_Comment)"
      ],
      "execution_count": 39,
      "outputs": [
        {
          "output_type": "stream",
          "text": [
            "The Total Reactions for All The_Other_98 Ariticles: 2537491\n",
            "The Total Reactions for All The_Other_98 Ariticles: 1908770\n",
            "The Total Comments for All The_Other_98 Ariticles: 110674\n"
          ],
          "name": "stdout"
        },
        {
          "output_type": "display_data",
          "data": {
            "image/png": "[encoded data removed]",
            "text/plain": [
              "<Figure size 432x288 with 1 Axes>"
            ]
          },
          "metadata": {
            "tags": []
          }
        }
      ]
    },
    {
      "cell_type": "code",
      "metadata": {
        "id": "My1EU86z26a4",
        "colab_type": "code",
        "colab": {
          "base_uri": "https://localhost:8080/",
          "height": 431
        },
        "outputId": "8a1ca0b8-9ed6-46a9-e188-f01d400620ca"
      },
      "source": [
        "Freedom_Daily_Articles = Freedom_Daily['Rating'].value_counts().astype(int)\n",
        "Freedom_Daily_Articles.plot(kind='bar');\n",
        "Freedom_Daily_Reach = Freedom_Daily['reaction_count'].sum().astype(int)\n",
        "print('The Total Reactions for All Freedom Daily Ariticles:',Freedom_Daily_Reach)\n",
        "Freedom_Daily_Articles_Share = Freedom_Daily['share_count'].sum().astype(int)\n",
        "print('The Total Reactions for All Freedom_Daily_Articles Ariticles:',Freedom_Daily_Articles_Share)\n",
        "Freedom_Daily_Articles_Comment = Freedom_Daily['comment_count'].sum().astype(int)\n",
        "print('The Total Comments for All Freedom_Daily_Articles Ariticles:',Freedom_Daily_Articles_Comment)\n",
        "\n"
      ],
      "execution_count": 40,
      "outputs": [
        {
          "output_type": "stream",
          "text": [
            "The Total Reactions for All Freedom Daily Ariticles: 409047\n",
            "The Total Reactions for All Freedom_Daily_Articles Ariticles: 274657\n",
            "The Total Comments for All Freedom_Daily_Articles Ariticles: 57301\n"
          ],
          "name": "stdout"
        },
        {
          "output_type": "display_data",
          "data": {
            "image/png": "[encoded data removed]",
            "text/plain": [
              "<Figure size 432x288 with 1 Axes>"
            ]
          },
          "metadata": {
            "tags": []
          }
        }
      ]
    }
  ]
}